{
 "cells": [
  {
   "cell_type": "markdown",
   "id": "192ceb6f",
   "metadata": {},
   "source": [
    "# Import the dataset"
   ]
  },
  {
   "cell_type": "code",
   "execution_count": 1,
   "id": "ccd7728c",
   "metadata": {},
   "outputs": [],
   "source": [
    "import pandas as pd\n",
    "import numpy as np\n",
    "import matplotlib.pyplot as plt\n",
    "import seaborn as sns"
   ]
  },
  {
   "cell_type": "markdown",
   "id": "a3814b42",
   "metadata": {},
   "source": [
    "# Load the dataset"
   ]
  },
  {
   "cell_type": "code",
   "execution_count": 2,
   "id": "42edf612",
   "metadata": {},
   "outputs": [],
   "source": [
    "df = pd.read_excel(\"C:\\\\Users\\\\deepthi\\\\Downloads\\\\HousePricePrediction.xlsx\")"
   ]
  },
  {
   "cell_type": "code",
   "execution_count": 4,
   "id": "8115dc00",
   "metadata": {},
   "outputs": [
    {
     "data": {
      "text/plain": [
       "(2919, 13)"
      ]
     },
     "execution_count": 4,
     "metadata": {},
     "output_type": "execute_result"
    }
   ],
   "source": [
    "df.shape"
   ]
  },
  {
   "cell_type": "code",
   "execution_count": 5,
   "id": "87f1c420",
   "metadata": {},
   "outputs": [
    {
     "data": {
      "text/html": [
       "<div>\n",
       "<style scoped>\n",
       "    .dataframe tbody tr th:only-of-type {\n",
       "        vertical-align: middle;\n",
       "    }\n",
       "\n",
       "    .dataframe tbody tr th {\n",
       "        vertical-align: top;\n",
       "    }\n",
       "\n",
       "    .dataframe thead th {\n",
       "        text-align: right;\n",
       "    }\n",
       "</style>\n",
       "<table border=\"1\" class=\"dataframe\">\n",
       "  <thead>\n",
       "    <tr style=\"text-align: right;\">\n",
       "      <th></th>\n",
       "      <th>Id</th>\n",
       "      <th>MSSubClass</th>\n",
       "      <th>MSZoning</th>\n",
       "      <th>LotArea</th>\n",
       "      <th>LotConfig</th>\n",
       "      <th>BldgType</th>\n",
       "      <th>OverallCond</th>\n",
       "      <th>YearBuilt</th>\n",
       "      <th>YearRemodAdd</th>\n",
       "      <th>Exterior1st</th>\n",
       "      <th>BsmtFinSF2</th>\n",
       "      <th>TotalBsmtSF</th>\n",
       "      <th>SalePrice</th>\n",
       "    </tr>\n",
       "  </thead>\n",
       "  <tbody>\n",
       "    <tr>\n",
       "      <th>0</th>\n",
       "      <td>0</td>\n",
       "      <td>60</td>\n",
       "      <td>RL</td>\n",
       "      <td>8450</td>\n",
       "      <td>Inside</td>\n",
       "      <td>1Fam</td>\n",
       "      <td>5</td>\n",
       "      <td>2003</td>\n",
       "      <td>2003</td>\n",
       "      <td>VinylSd</td>\n",
       "      <td>0.0</td>\n",
       "      <td>856.0</td>\n",
       "      <td>208500.0</td>\n",
       "    </tr>\n",
       "    <tr>\n",
       "      <th>1</th>\n",
       "      <td>1</td>\n",
       "      <td>20</td>\n",
       "      <td>RL</td>\n",
       "      <td>9600</td>\n",
       "      <td>FR2</td>\n",
       "      <td>1Fam</td>\n",
       "      <td>8</td>\n",
       "      <td>1976</td>\n",
       "      <td>1976</td>\n",
       "      <td>MetalSd</td>\n",
       "      <td>0.0</td>\n",
       "      <td>1262.0</td>\n",
       "      <td>181500.0</td>\n",
       "    </tr>\n",
       "    <tr>\n",
       "      <th>2</th>\n",
       "      <td>2</td>\n",
       "      <td>60</td>\n",
       "      <td>RL</td>\n",
       "      <td>11250</td>\n",
       "      <td>Inside</td>\n",
       "      <td>1Fam</td>\n",
       "      <td>5</td>\n",
       "      <td>2001</td>\n",
       "      <td>2002</td>\n",
       "      <td>VinylSd</td>\n",
       "      <td>0.0</td>\n",
       "      <td>920.0</td>\n",
       "      <td>223500.0</td>\n",
       "    </tr>\n",
       "    <tr>\n",
       "      <th>3</th>\n",
       "      <td>3</td>\n",
       "      <td>70</td>\n",
       "      <td>RL</td>\n",
       "      <td>9550</td>\n",
       "      <td>Corner</td>\n",
       "      <td>1Fam</td>\n",
       "      <td>5</td>\n",
       "      <td>1915</td>\n",
       "      <td>1970</td>\n",
       "      <td>Wd Sdng</td>\n",
       "      <td>0.0</td>\n",
       "      <td>756.0</td>\n",
       "      <td>140000.0</td>\n",
       "    </tr>\n",
       "    <tr>\n",
       "      <th>4</th>\n",
       "      <td>4</td>\n",
       "      <td>60</td>\n",
       "      <td>RL</td>\n",
       "      <td>14260</td>\n",
       "      <td>FR2</td>\n",
       "      <td>1Fam</td>\n",
       "      <td>5</td>\n",
       "      <td>2000</td>\n",
       "      <td>2000</td>\n",
       "      <td>VinylSd</td>\n",
       "      <td>0.0</td>\n",
       "      <td>1145.0</td>\n",
       "      <td>250000.0</td>\n",
       "    </tr>\n",
       "  </tbody>\n",
       "</table>\n",
       "</div>"
      ],
      "text/plain": [
       "   Id  MSSubClass MSZoning  LotArea LotConfig BldgType  OverallCond  \\\n",
       "0   0          60       RL     8450    Inside     1Fam            5   \n",
       "1   1          20       RL     9600       FR2     1Fam            8   \n",
       "2   2          60       RL    11250    Inside     1Fam            5   \n",
       "3   3          70       RL     9550    Corner     1Fam            5   \n",
       "4   4          60       RL    14260       FR2     1Fam            5   \n",
       "\n",
       "   YearBuilt  YearRemodAdd Exterior1st  BsmtFinSF2  TotalBsmtSF  SalePrice  \n",
       "0       2003          2003     VinylSd         0.0        856.0   208500.0  \n",
       "1       1976          1976     MetalSd         0.0       1262.0   181500.0  \n",
       "2       2001          2002     VinylSd         0.0        920.0   223500.0  \n",
       "3       1915          1970     Wd Sdng         0.0        756.0   140000.0  \n",
       "4       2000          2000     VinylSd         0.0       1145.0   250000.0  "
      ]
     },
     "execution_count": 5,
     "metadata": {},
     "output_type": "execute_result"
    }
   ],
   "source": [
    "df.head()"
   ]
  },
  {
   "cell_type": "code",
   "execution_count": 6,
   "id": "6f33a96f",
   "metadata": {},
   "outputs": [],
   "source": [
    "df.drop(columns='Id',axis=1,inplace=True)"
   ]
  },
  {
   "cell_type": "code",
   "execution_count": 7,
   "id": "8966a65c",
   "metadata": {},
   "outputs": [
    {
     "data": {
      "text/html": [
       "<div>\n",
       "<style scoped>\n",
       "    .dataframe tbody tr th:only-of-type {\n",
       "        vertical-align: middle;\n",
       "    }\n",
       "\n",
       "    .dataframe tbody tr th {\n",
       "        vertical-align: top;\n",
       "    }\n",
       "\n",
       "    .dataframe thead th {\n",
       "        text-align: right;\n",
       "    }\n",
       "</style>\n",
       "<table border=\"1\" class=\"dataframe\">\n",
       "  <thead>\n",
       "    <tr style=\"text-align: right;\">\n",
       "      <th></th>\n",
       "      <th>MSSubClass</th>\n",
       "      <th>MSZoning</th>\n",
       "      <th>LotArea</th>\n",
       "      <th>LotConfig</th>\n",
       "      <th>BldgType</th>\n",
       "      <th>OverallCond</th>\n",
       "      <th>YearBuilt</th>\n",
       "      <th>YearRemodAdd</th>\n",
       "      <th>Exterior1st</th>\n",
       "      <th>BsmtFinSF2</th>\n",
       "      <th>TotalBsmtSF</th>\n",
       "      <th>SalePrice</th>\n",
       "    </tr>\n",
       "  </thead>\n",
       "  <tbody>\n",
       "    <tr>\n",
       "      <th>0</th>\n",
       "      <td>60</td>\n",
       "      <td>RL</td>\n",
       "      <td>8450</td>\n",
       "      <td>Inside</td>\n",
       "      <td>1Fam</td>\n",
       "      <td>5</td>\n",
       "      <td>2003</td>\n",
       "      <td>2003</td>\n",
       "      <td>VinylSd</td>\n",
       "      <td>0.0</td>\n",
       "      <td>856.0</td>\n",
       "      <td>208500.0</td>\n",
       "    </tr>\n",
       "    <tr>\n",
       "      <th>1</th>\n",
       "      <td>20</td>\n",
       "      <td>RL</td>\n",
       "      <td>9600</td>\n",
       "      <td>FR2</td>\n",
       "      <td>1Fam</td>\n",
       "      <td>8</td>\n",
       "      <td>1976</td>\n",
       "      <td>1976</td>\n",
       "      <td>MetalSd</td>\n",
       "      <td>0.0</td>\n",
       "      <td>1262.0</td>\n",
       "      <td>181500.0</td>\n",
       "    </tr>\n",
       "    <tr>\n",
       "      <th>2</th>\n",
       "      <td>60</td>\n",
       "      <td>RL</td>\n",
       "      <td>11250</td>\n",
       "      <td>Inside</td>\n",
       "      <td>1Fam</td>\n",
       "      <td>5</td>\n",
       "      <td>2001</td>\n",
       "      <td>2002</td>\n",
       "      <td>VinylSd</td>\n",
       "      <td>0.0</td>\n",
       "      <td>920.0</td>\n",
       "      <td>223500.0</td>\n",
       "    </tr>\n",
       "    <tr>\n",
       "      <th>3</th>\n",
       "      <td>70</td>\n",
       "      <td>RL</td>\n",
       "      <td>9550</td>\n",
       "      <td>Corner</td>\n",
       "      <td>1Fam</td>\n",
       "      <td>5</td>\n",
       "      <td>1915</td>\n",
       "      <td>1970</td>\n",
       "      <td>Wd Sdng</td>\n",
       "      <td>0.0</td>\n",
       "      <td>756.0</td>\n",
       "      <td>140000.0</td>\n",
       "    </tr>\n",
       "    <tr>\n",
       "      <th>4</th>\n",
       "      <td>60</td>\n",
       "      <td>RL</td>\n",
       "      <td>14260</td>\n",
       "      <td>FR2</td>\n",
       "      <td>1Fam</td>\n",
       "      <td>5</td>\n",
       "      <td>2000</td>\n",
       "      <td>2000</td>\n",
       "      <td>VinylSd</td>\n",
       "      <td>0.0</td>\n",
       "      <td>1145.0</td>\n",
       "      <td>250000.0</td>\n",
       "    </tr>\n",
       "  </tbody>\n",
       "</table>\n",
       "</div>"
      ],
      "text/plain": [
       "   MSSubClass MSZoning  LotArea LotConfig BldgType  OverallCond  YearBuilt  \\\n",
       "0          60       RL     8450    Inside     1Fam            5       2003   \n",
       "1          20       RL     9600       FR2     1Fam            8       1976   \n",
       "2          60       RL    11250    Inside     1Fam            5       2001   \n",
       "3          70       RL     9550    Corner     1Fam            5       1915   \n",
       "4          60       RL    14260       FR2     1Fam            5       2000   \n",
       "\n",
       "   YearRemodAdd Exterior1st  BsmtFinSF2  TotalBsmtSF  SalePrice  \n",
       "0          2003     VinylSd         0.0        856.0   208500.0  \n",
       "1          1976     MetalSd         0.0       1262.0   181500.0  \n",
       "2          2002     VinylSd         0.0        920.0   223500.0  \n",
       "3          1970     Wd Sdng         0.0        756.0   140000.0  \n",
       "4          2000     VinylSd         0.0       1145.0   250000.0  "
      ]
     },
     "execution_count": 7,
     "metadata": {},
     "output_type": "execute_result"
    }
   ],
   "source": [
    "df.head()"
   ]
  },
  {
   "cell_type": "code",
   "execution_count": 8,
   "id": "197cabf7",
   "metadata": {},
   "outputs": [
    {
     "name": "stdout",
     "output_type": "stream",
     "text": [
      "<class 'pandas.core.frame.DataFrame'>\n",
      "RangeIndex: 2919 entries, 0 to 2918\n",
      "Data columns (total 12 columns):\n",
      " #   Column        Non-Null Count  Dtype  \n",
      "---  ------        --------------  -----  \n",
      " 0   MSSubClass    2919 non-null   int64  \n",
      " 1   MSZoning      2915 non-null   object \n",
      " 2   LotArea       2919 non-null   int64  \n",
      " 3   LotConfig     2919 non-null   object \n",
      " 4   BldgType      2919 non-null   object \n",
      " 5   OverallCond   2919 non-null   int64  \n",
      " 6   YearBuilt     2919 non-null   int64  \n",
      " 7   YearRemodAdd  2919 non-null   int64  \n",
      " 8   Exterior1st   2918 non-null   object \n",
      " 9   BsmtFinSF2    2918 non-null   float64\n",
      " 10  TotalBsmtSF   2918 non-null   float64\n",
      " 11  SalePrice     1460 non-null   float64\n",
      "dtypes: float64(3), int64(5), object(4)\n",
      "memory usage: 273.8+ KB\n"
     ]
    }
   ],
   "source": [
    "df.info()"
   ]
  },
  {
   "cell_type": "code",
   "execution_count": 9,
   "id": "9a071585",
   "metadata": {},
   "outputs": [
    {
     "data": {
      "text/html": [
       "<div>\n",
       "<style scoped>\n",
       "    .dataframe tbody tr th:only-of-type {\n",
       "        vertical-align: middle;\n",
       "    }\n",
       "\n",
       "    .dataframe tbody tr th {\n",
       "        vertical-align: top;\n",
       "    }\n",
       "\n",
       "    .dataframe thead th {\n",
       "        text-align: right;\n",
       "    }\n",
       "</style>\n",
       "<table border=\"1\" class=\"dataframe\">\n",
       "  <thead>\n",
       "    <tr style=\"text-align: right;\">\n",
       "      <th></th>\n",
       "      <th>MSSubClass</th>\n",
       "      <th>LotArea</th>\n",
       "      <th>OverallCond</th>\n",
       "      <th>YearBuilt</th>\n",
       "      <th>YearRemodAdd</th>\n",
       "      <th>BsmtFinSF2</th>\n",
       "      <th>TotalBsmtSF</th>\n",
       "      <th>SalePrice</th>\n",
       "    </tr>\n",
       "  </thead>\n",
       "  <tbody>\n",
       "    <tr>\n",
       "      <th>count</th>\n",
       "      <td>2919.000000</td>\n",
       "      <td>2919.000000</td>\n",
       "      <td>2919.000000</td>\n",
       "      <td>2919.000000</td>\n",
       "      <td>2919.000000</td>\n",
       "      <td>2918.000000</td>\n",
       "      <td>2918.000000</td>\n",
       "      <td>1460.000000</td>\n",
       "    </tr>\n",
       "    <tr>\n",
       "      <th>mean</th>\n",
       "      <td>57.137718</td>\n",
       "      <td>10168.114080</td>\n",
       "      <td>5.564577</td>\n",
       "      <td>1971.312778</td>\n",
       "      <td>1984.264474</td>\n",
       "      <td>49.582248</td>\n",
       "      <td>1051.777587</td>\n",
       "      <td>180921.195890</td>\n",
       "    </tr>\n",
       "    <tr>\n",
       "      <th>std</th>\n",
       "      <td>42.517628</td>\n",
       "      <td>7886.996359</td>\n",
       "      <td>1.113131</td>\n",
       "      <td>30.291442</td>\n",
       "      <td>20.894344</td>\n",
       "      <td>169.205611</td>\n",
       "      <td>440.766258</td>\n",
       "      <td>79442.502883</td>\n",
       "    </tr>\n",
       "    <tr>\n",
       "      <th>min</th>\n",
       "      <td>20.000000</td>\n",
       "      <td>1300.000000</td>\n",
       "      <td>1.000000</td>\n",
       "      <td>1872.000000</td>\n",
       "      <td>1950.000000</td>\n",
       "      <td>0.000000</td>\n",
       "      <td>0.000000</td>\n",
       "      <td>34900.000000</td>\n",
       "    </tr>\n",
       "    <tr>\n",
       "      <th>25%</th>\n",
       "      <td>20.000000</td>\n",
       "      <td>7478.000000</td>\n",
       "      <td>5.000000</td>\n",
       "      <td>1953.500000</td>\n",
       "      <td>1965.000000</td>\n",
       "      <td>0.000000</td>\n",
       "      <td>793.000000</td>\n",
       "      <td>129975.000000</td>\n",
       "    </tr>\n",
       "    <tr>\n",
       "      <th>50%</th>\n",
       "      <td>50.000000</td>\n",
       "      <td>9453.000000</td>\n",
       "      <td>5.000000</td>\n",
       "      <td>1973.000000</td>\n",
       "      <td>1993.000000</td>\n",
       "      <td>0.000000</td>\n",
       "      <td>989.500000</td>\n",
       "      <td>163000.000000</td>\n",
       "    </tr>\n",
       "    <tr>\n",
       "      <th>75%</th>\n",
       "      <td>70.000000</td>\n",
       "      <td>11570.000000</td>\n",
       "      <td>6.000000</td>\n",
       "      <td>2001.000000</td>\n",
       "      <td>2004.000000</td>\n",
       "      <td>0.000000</td>\n",
       "      <td>1302.000000</td>\n",
       "      <td>214000.000000</td>\n",
       "    </tr>\n",
       "    <tr>\n",
       "      <th>max</th>\n",
       "      <td>190.000000</td>\n",
       "      <td>215245.000000</td>\n",
       "      <td>9.000000</td>\n",
       "      <td>2010.000000</td>\n",
       "      <td>2010.000000</td>\n",
       "      <td>1526.000000</td>\n",
       "      <td>6110.000000</td>\n",
       "      <td>755000.000000</td>\n",
       "    </tr>\n",
       "  </tbody>\n",
       "</table>\n",
       "</div>"
      ],
      "text/plain": [
       "        MSSubClass        LotArea  OverallCond    YearBuilt  YearRemodAdd  \\\n",
       "count  2919.000000    2919.000000  2919.000000  2919.000000   2919.000000   \n",
       "mean     57.137718   10168.114080     5.564577  1971.312778   1984.264474   \n",
       "std      42.517628    7886.996359     1.113131    30.291442     20.894344   \n",
       "min      20.000000    1300.000000     1.000000  1872.000000   1950.000000   \n",
       "25%      20.000000    7478.000000     5.000000  1953.500000   1965.000000   \n",
       "50%      50.000000    9453.000000     5.000000  1973.000000   1993.000000   \n",
       "75%      70.000000   11570.000000     6.000000  2001.000000   2004.000000   \n",
       "max     190.000000  215245.000000     9.000000  2010.000000   2010.000000   \n",
       "\n",
       "        BsmtFinSF2  TotalBsmtSF      SalePrice  \n",
       "count  2918.000000  2918.000000    1460.000000  \n",
       "mean     49.582248  1051.777587  180921.195890  \n",
       "std     169.205611   440.766258   79442.502883  \n",
       "min       0.000000     0.000000   34900.000000  \n",
       "25%       0.000000   793.000000  129975.000000  \n",
       "50%       0.000000   989.500000  163000.000000  \n",
       "75%       0.000000  1302.000000  214000.000000  \n",
       "max    1526.000000  6110.000000  755000.000000  "
      ]
     },
     "execution_count": 9,
     "metadata": {},
     "output_type": "execute_result"
    }
   ],
   "source": [
    "df.describe()"
   ]
  },
  {
   "cell_type": "markdown",
   "id": "c8440be4",
   "metadata": {},
   "source": [
    "# Exploratory Data Analysis(EDA)"
   ]
  },
  {
   "cell_type": "code",
   "execution_count": 10,
   "id": "eec6a22f",
   "metadata": {
    "scrolled": true
   },
   "outputs": [
    {
     "data": {
      "text/html": [
       "<div>\n",
       "<style scoped>\n",
       "    .dataframe tbody tr th:only-of-type {\n",
       "        vertical-align: middle;\n",
       "    }\n",
       "\n",
       "    .dataframe tbody tr th {\n",
       "        vertical-align: top;\n",
       "    }\n",
       "\n",
       "    .dataframe thead th {\n",
       "        text-align: right;\n",
       "    }\n",
       "</style>\n",
       "<table border=\"1\" class=\"dataframe\">\n",
       "  <thead>\n",
       "    <tr style=\"text-align: right;\">\n",
       "      <th></th>\n",
       "      <th>MSSubClass</th>\n",
       "      <th>LotArea</th>\n",
       "      <th>OverallCond</th>\n",
       "      <th>YearBuilt</th>\n",
       "      <th>YearRemodAdd</th>\n",
       "      <th>BsmtFinSF2</th>\n",
       "      <th>TotalBsmtSF</th>\n",
       "      <th>SalePrice</th>\n",
       "    </tr>\n",
       "  </thead>\n",
       "  <tbody>\n",
       "    <tr>\n",
       "      <th>MSSubClass</th>\n",
       "      <td>1.000000</td>\n",
       "      <td>-0.201730</td>\n",
       "      <td>-0.065625</td>\n",
       "      <td>0.034409</td>\n",
       "      <td>0.043315</td>\n",
       "      <td>-0.072530</td>\n",
       "      <td>-0.219965</td>\n",
       "      <td>-0.084284</td>\n",
       "    </tr>\n",
       "    <tr>\n",
       "      <th>LotArea</th>\n",
       "      <td>-0.201730</td>\n",
       "      <td>1.000000</td>\n",
       "      <td>-0.035617</td>\n",
       "      <td>0.024128</td>\n",
       "      <td>0.021612</td>\n",
       "      <td>0.084059</td>\n",
       "      <td>0.254138</td>\n",
       "      <td>0.263843</td>\n",
       "    </tr>\n",
       "    <tr>\n",
       "      <th>OverallCond</th>\n",
       "      <td>-0.065625</td>\n",
       "      <td>-0.035617</td>\n",
       "      <td>1.000000</td>\n",
       "      <td>-0.368477</td>\n",
       "      <td>0.047654</td>\n",
       "      <td>0.041501</td>\n",
       "      <td>-0.174002</td>\n",
       "      <td>-0.077856</td>\n",
       "    </tr>\n",
       "    <tr>\n",
       "      <th>YearBuilt</th>\n",
       "      <td>0.034409</td>\n",
       "      <td>0.024128</td>\n",
       "      <td>-0.368477</td>\n",
       "      <td>1.000000</td>\n",
       "      <td>0.612235</td>\n",
       "      <td>-0.027595</td>\n",
       "      <td>0.408515</td>\n",
       "      <td>0.522897</td>\n",
       "    </tr>\n",
       "    <tr>\n",
       "      <th>YearRemodAdd</th>\n",
       "      <td>0.043315</td>\n",
       "      <td>0.021612</td>\n",
       "      <td>0.047654</td>\n",
       "      <td>0.612235</td>\n",
       "      <td>1.000000</td>\n",
       "      <td>-0.062153</td>\n",
       "      <td>0.298107</td>\n",
       "      <td>0.507101</td>\n",
       "    </tr>\n",
       "    <tr>\n",
       "      <th>BsmtFinSF2</th>\n",
       "      <td>-0.072530</td>\n",
       "      <td>0.084059</td>\n",
       "      <td>0.041501</td>\n",
       "      <td>-0.027595</td>\n",
       "      <td>-0.062153</td>\n",
       "      <td>1.000000</td>\n",
       "      <td>0.089410</td>\n",
       "      <td>-0.011378</td>\n",
       "    </tr>\n",
       "    <tr>\n",
       "      <th>TotalBsmtSF</th>\n",
       "      <td>-0.219965</td>\n",
       "      <td>0.254138</td>\n",
       "      <td>-0.174002</td>\n",
       "      <td>0.408515</td>\n",
       "      <td>0.298107</td>\n",
       "      <td>0.089410</td>\n",
       "      <td>1.000000</td>\n",
       "      <td>0.613581</td>\n",
       "    </tr>\n",
       "    <tr>\n",
       "      <th>SalePrice</th>\n",
       "      <td>-0.084284</td>\n",
       "      <td>0.263843</td>\n",
       "      <td>-0.077856</td>\n",
       "      <td>0.522897</td>\n",
       "      <td>0.507101</td>\n",
       "      <td>-0.011378</td>\n",
       "      <td>0.613581</td>\n",
       "      <td>1.000000</td>\n",
       "    </tr>\n",
       "  </tbody>\n",
       "</table>\n",
       "</div>"
      ],
      "text/plain": [
       "              MSSubClass   LotArea  OverallCond  YearBuilt  YearRemodAdd  \\\n",
       "MSSubClass      1.000000 -0.201730    -0.065625   0.034409      0.043315   \n",
       "LotArea        -0.201730  1.000000    -0.035617   0.024128      0.021612   \n",
       "OverallCond    -0.065625 -0.035617     1.000000  -0.368477      0.047654   \n",
       "YearBuilt       0.034409  0.024128    -0.368477   1.000000      0.612235   \n",
       "YearRemodAdd    0.043315  0.021612     0.047654   0.612235      1.000000   \n",
       "BsmtFinSF2     -0.072530  0.084059     0.041501  -0.027595     -0.062153   \n",
       "TotalBsmtSF    -0.219965  0.254138    -0.174002   0.408515      0.298107   \n",
       "SalePrice      -0.084284  0.263843    -0.077856   0.522897      0.507101   \n",
       "\n",
       "              BsmtFinSF2  TotalBsmtSF  SalePrice  \n",
       "MSSubClass     -0.072530    -0.219965  -0.084284  \n",
       "LotArea         0.084059     0.254138   0.263843  \n",
       "OverallCond     0.041501    -0.174002  -0.077856  \n",
       "YearBuilt      -0.027595     0.408515   0.522897  \n",
       "YearRemodAdd   -0.062153     0.298107   0.507101  \n",
       "BsmtFinSF2      1.000000     0.089410  -0.011378  \n",
       "TotalBsmtSF     0.089410     1.000000   0.613581  \n",
       "SalePrice      -0.011378     0.613581   1.000000  "
      ]
     },
     "execution_count": 10,
     "metadata": {},
     "output_type": "execute_result"
    }
   ],
   "source": [
    "df.corr()"
   ]
  },
  {
   "cell_type": "code",
   "execution_count": 16,
   "id": "ebc8073e",
   "metadata": {},
   "outputs": [
    {
     "data": {
      "text/html": [
       "<div>\n",
       "<style scoped>\n",
       "    .dataframe tbody tr th:only-of-type {\n",
       "        vertical-align: middle;\n",
       "    }\n",
       "\n",
       "    .dataframe tbody tr th {\n",
       "        vertical-align: top;\n",
       "    }\n",
       "\n",
       "    .dataframe thead th {\n",
       "        text-align: right;\n",
       "    }\n",
       "</style>\n",
       "<table border=\"1\" class=\"dataframe\">\n",
       "  <thead>\n",
       "    <tr style=\"text-align: right;\">\n",
       "      <th></th>\n",
       "      <th>MSSubClass</th>\n",
       "      <th>MSZoning</th>\n",
       "      <th>LotArea</th>\n",
       "      <th>LotConfig</th>\n",
       "      <th>BldgType</th>\n",
       "      <th>OverallCond</th>\n",
       "      <th>YearBuilt</th>\n",
       "      <th>YearRemodAdd</th>\n",
       "      <th>Exterior1st</th>\n",
       "      <th>BsmtFinSF2</th>\n",
       "      <th>TotalBsmtSF</th>\n",
       "      <th>SalePrice</th>\n",
       "    </tr>\n",
       "  </thead>\n",
       "  <tbody>\n",
       "    <tr>\n",
       "      <th>0</th>\n",
       "      <td>False</td>\n",
       "      <td>False</td>\n",
       "      <td>False</td>\n",
       "      <td>False</td>\n",
       "      <td>False</td>\n",
       "      <td>False</td>\n",
       "      <td>False</td>\n",
       "      <td>False</td>\n",
       "      <td>False</td>\n",
       "      <td>False</td>\n",
       "      <td>False</td>\n",
       "      <td>False</td>\n",
       "    </tr>\n",
       "    <tr>\n",
       "      <th>1</th>\n",
       "      <td>False</td>\n",
       "      <td>False</td>\n",
       "      <td>False</td>\n",
       "      <td>False</td>\n",
       "      <td>False</td>\n",
       "      <td>False</td>\n",
       "      <td>False</td>\n",
       "      <td>False</td>\n",
       "      <td>False</td>\n",
       "      <td>False</td>\n",
       "      <td>False</td>\n",
       "      <td>False</td>\n",
       "    </tr>\n",
       "    <tr>\n",
       "      <th>2</th>\n",
       "      <td>False</td>\n",
       "      <td>False</td>\n",
       "      <td>False</td>\n",
       "      <td>False</td>\n",
       "      <td>False</td>\n",
       "      <td>False</td>\n",
       "      <td>False</td>\n",
       "      <td>False</td>\n",
       "      <td>False</td>\n",
       "      <td>False</td>\n",
       "      <td>False</td>\n",
       "      <td>False</td>\n",
       "    </tr>\n",
       "    <tr>\n",
       "      <th>3</th>\n",
       "      <td>False</td>\n",
       "      <td>False</td>\n",
       "      <td>False</td>\n",
       "      <td>False</td>\n",
       "      <td>False</td>\n",
       "      <td>False</td>\n",
       "      <td>False</td>\n",
       "      <td>False</td>\n",
       "      <td>False</td>\n",
       "      <td>False</td>\n",
       "      <td>False</td>\n",
       "      <td>False</td>\n",
       "    </tr>\n",
       "    <tr>\n",
       "      <th>4</th>\n",
       "      <td>False</td>\n",
       "      <td>False</td>\n",
       "      <td>False</td>\n",
       "      <td>False</td>\n",
       "      <td>False</td>\n",
       "      <td>False</td>\n",
       "      <td>False</td>\n",
       "      <td>False</td>\n",
       "      <td>False</td>\n",
       "      <td>False</td>\n",
       "      <td>False</td>\n",
       "      <td>False</td>\n",
       "    </tr>\n",
       "    <tr>\n",
       "      <th>...</th>\n",
       "      <td>...</td>\n",
       "      <td>...</td>\n",
       "      <td>...</td>\n",
       "      <td>...</td>\n",
       "      <td>...</td>\n",
       "      <td>...</td>\n",
       "      <td>...</td>\n",
       "      <td>...</td>\n",
       "      <td>...</td>\n",
       "      <td>...</td>\n",
       "      <td>...</td>\n",
       "      <td>...</td>\n",
       "    </tr>\n",
       "    <tr>\n",
       "      <th>2914</th>\n",
       "      <td>False</td>\n",
       "      <td>False</td>\n",
       "      <td>False</td>\n",
       "      <td>False</td>\n",
       "      <td>False</td>\n",
       "      <td>False</td>\n",
       "      <td>False</td>\n",
       "      <td>False</td>\n",
       "      <td>False</td>\n",
       "      <td>False</td>\n",
       "      <td>False</td>\n",
       "      <td>True</td>\n",
       "    </tr>\n",
       "    <tr>\n",
       "      <th>2915</th>\n",
       "      <td>False</td>\n",
       "      <td>False</td>\n",
       "      <td>False</td>\n",
       "      <td>False</td>\n",
       "      <td>False</td>\n",
       "      <td>False</td>\n",
       "      <td>False</td>\n",
       "      <td>False</td>\n",
       "      <td>False</td>\n",
       "      <td>False</td>\n",
       "      <td>False</td>\n",
       "      <td>True</td>\n",
       "    </tr>\n",
       "    <tr>\n",
       "      <th>2916</th>\n",
       "      <td>False</td>\n",
       "      <td>False</td>\n",
       "      <td>False</td>\n",
       "      <td>False</td>\n",
       "      <td>False</td>\n",
       "      <td>False</td>\n",
       "      <td>False</td>\n",
       "      <td>False</td>\n",
       "      <td>False</td>\n",
       "      <td>False</td>\n",
       "      <td>False</td>\n",
       "      <td>True</td>\n",
       "    </tr>\n",
       "    <tr>\n",
       "      <th>2917</th>\n",
       "      <td>False</td>\n",
       "      <td>False</td>\n",
       "      <td>False</td>\n",
       "      <td>False</td>\n",
       "      <td>False</td>\n",
       "      <td>False</td>\n",
       "      <td>False</td>\n",
       "      <td>False</td>\n",
       "      <td>False</td>\n",
       "      <td>False</td>\n",
       "      <td>False</td>\n",
       "      <td>True</td>\n",
       "    </tr>\n",
       "    <tr>\n",
       "      <th>2918</th>\n",
       "      <td>False</td>\n",
       "      <td>False</td>\n",
       "      <td>False</td>\n",
       "      <td>False</td>\n",
       "      <td>False</td>\n",
       "      <td>False</td>\n",
       "      <td>False</td>\n",
       "      <td>False</td>\n",
       "      <td>False</td>\n",
       "      <td>False</td>\n",
       "      <td>False</td>\n",
       "      <td>True</td>\n",
       "    </tr>\n",
       "  </tbody>\n",
       "</table>\n",
       "<p>2919 rows × 12 columns</p>\n",
       "</div>"
      ],
      "text/plain": [
       "      MSSubClass  MSZoning  LotArea  LotConfig  BldgType  OverallCond  \\\n",
       "0          False     False    False      False     False        False   \n",
       "1          False     False    False      False     False        False   \n",
       "2          False     False    False      False     False        False   \n",
       "3          False     False    False      False     False        False   \n",
       "4          False     False    False      False     False        False   \n",
       "...          ...       ...      ...        ...       ...          ...   \n",
       "2914       False     False    False      False     False        False   \n",
       "2915       False     False    False      False     False        False   \n",
       "2916       False     False    False      False     False        False   \n",
       "2917       False     False    False      False     False        False   \n",
       "2918       False     False    False      False     False        False   \n",
       "\n",
       "      YearBuilt  YearRemodAdd  Exterior1st  BsmtFinSF2  TotalBsmtSF  SalePrice  \n",
       "0         False         False        False       False        False      False  \n",
       "1         False         False        False       False        False      False  \n",
       "2         False         False        False       False        False      False  \n",
       "3         False         False        False       False        False      False  \n",
       "4         False         False        False       False        False      False  \n",
       "...         ...           ...          ...         ...          ...        ...  \n",
       "2914      False         False        False       False        False       True  \n",
       "2915      False         False        False       False        False       True  \n",
       "2916      False         False        False       False        False       True  \n",
       "2917      False         False        False       False        False       True  \n",
       "2918      False         False        False       False        False       True  \n",
       "\n",
       "[2919 rows x 12 columns]"
      ]
     },
     "execution_count": 16,
     "metadata": {},
     "output_type": "execute_result"
    }
   ],
   "source": [
    "df.isnull()"
   ]
  },
  {
   "cell_type": "code",
   "execution_count": 18,
   "id": "e1b68dad",
   "metadata": {},
   "outputs": [
    {
     "data": {
      "text/plain": [
       "MSSubClass         0\n",
       "MSZoning           4\n",
       "LotArea            0\n",
       "LotConfig          0\n",
       "BldgType           0\n",
       "OverallCond        0\n",
       "YearBuilt          0\n",
       "YearRemodAdd       0\n",
       "Exterior1st        1\n",
       "BsmtFinSF2         1\n",
       "TotalBsmtSF        1\n",
       "SalePrice       1459\n",
       "dtype: int64"
      ]
     },
     "execution_count": 18,
     "metadata": {},
     "output_type": "execute_result"
    }
   ],
   "source": [
    "df.isnull().sum()"
   ]
  },
  {
   "cell_type": "markdown",
   "id": "6ab28cdd",
   "metadata": {},
   "source": [
    "Here SalesPrice is the target column it should not be the null values. So we\n",
    "Replacing SalePrice empty values with their mean values to make the data distribution symmetric."
   ]
  },
  {
   "cell_type": "code",
   "execution_count": 19,
   "id": "86d13cc8",
   "metadata": {},
   "outputs": [],
   "source": [
    "df['SalePrice'] = df['SalePrice'].fillna(df['SalePrice'].mean())"
   ]
  },
  {
   "cell_type": "markdown",
   "id": "7c061c65",
   "metadata": {},
   "source": [
    "Drop records with null values (as the empty records are very less)."
   ]
  },
  {
   "cell_type": "code",
   "execution_count": 20,
   "id": "6aa63664",
   "metadata": {},
   "outputs": [],
   "source": [
    "df=df.dropna()"
   ]
  },
  {
   "cell_type": "code",
   "execution_count": 21,
   "id": "29641781",
   "metadata": {},
   "outputs": [
    {
     "data": {
      "text/plain": [
       "MSSubClass      0\n",
       "MSZoning        0\n",
       "LotArea         0\n",
       "LotConfig       0\n",
       "BldgType        0\n",
       "OverallCond     0\n",
       "YearBuilt       0\n",
       "YearRemodAdd    0\n",
       "Exterior1st     0\n",
       "BsmtFinSF2      0\n",
       "TotalBsmtSF     0\n",
       "SalePrice       0\n",
       "dtype: int64"
      ]
     },
     "execution_count": 21,
     "metadata": {},
     "output_type": "execute_result"
    }
   ],
   "source": [
    "df.isnull().sum()"
   ]
  },
  {
   "cell_type": "code",
   "execution_count": 22,
   "id": "aa1c100f",
   "metadata": {},
   "outputs": [
    {
     "data": {
      "image/png": "[encoded data removed]",
      "text/plain": [
       "<Figure size 432x288 with 2 Axes>"
      ]
     },
     "metadata": {
      "needs_background": "light"
     },
     "output_type": "display_data"
    }
   ],
   "source": [
    "sns.heatmap(df.corr(),annot=True)\n",
    "plt.show()"
   ]
  },
  {
   "cell_type": "markdown",
   "id": "895e0d8d",
   "metadata": {},
   "source": [
    "# Visualize the dataset"
   ]
  },
  {
   "cell_type": "code",
   "execution_count": 23,
   "id": "fca9849b",
   "metadata": {},
   "outputs": [
    {
     "data": {
      "image/png": "[encoded data removed]",
      "text/plain": [
       "<Figure size 432x288 with 1 Axes>"
      ]
     },
     "metadata": {
      "needs_background": "light"
     },
     "output_type": "display_data"
    }
   ],
   "source": [
    "sns.scatterplot(data=df,x = 'YearBuilt', y = 'YearRemodAdd')\n",
    "plt.show()"
   ]
  },
  {
   "cell_type": "code",
   "execution_count": 24,
   "id": "29ea90cd",
   "metadata": {
    "scrolled": true
   },
   "outputs": [
    {
     "data": {
      "image/png": "[encoded data removed]",
      "text/plain": [
       "<Figure size 432x288 with 1 Axes>"
      ]
     },
     "metadata": {
      "needs_background": "light"
     },
     "output_type": "display_data"
    }
   ],
   "source": [
    "sns.scatterplot(data=df,x = 'SalePrice', y = 'YearRemodAdd')\n",
    "plt.show()"
   ]
  },
  {
   "cell_type": "code",
   "execution_count": 25,
   "id": "003ec070",
   "metadata": {},
   "outputs": [
    {
     "data": {
      "image/png": "[encoded data removed]",
      "text/plain": [
       "<Figure size 432x288 with 1 Axes>"
      ]
     },
     "metadata": {
      "needs_background": "light"
     },
     "output_type": "display_data"
    }
   ],
   "source": [
    "sns.scatterplot(data=df,x = 'SalePrice', y = 'TotalBsmtSF')\n",
    "plt.show()"
   ]
  },
  {
   "cell_type": "markdown",
   "id": "a34449ba",
   "metadata": {},
   "source": [
    "# OneHotEncoder – For Label categorical features"
   ]
  },
  {
   "cell_type": "markdown",
   "id": "49be0c76",
   "metadata": {},
   "source": [
    "One hot Encoding is the best way to convert categorical data into binary vectors. \n",
    "This maps the values to integer values. By using OneHotEncoder, we can easily convert object data into int.\n",
    "So for that, firstly we have to collect all the features which have the object datatype."
   ]
  },
  {
   "cell_type": "code",
   "execution_count": 41,
   "id": "638b7add",
   "metadata": {},
   "outputs": [
    {
     "name": "stdout",
     "output_type": "stream",
     "text": [
      "Categorical variables:\n",
      "['MSZoning', 'LotConfig', 'BldgType', 'Exterior1st']\n",
      "No. of. categorical features:  4\n"
     ]
    }
   ],
   "source": [
    "from sklearn.preprocessing import OneHotEncoder\n",
    "s = (df.dtypes == 'object')\n",
    "object_cols = list(s[s].index)\n",
    "print(\"Categorical variables:\")\n",
    "print(object_cols)\n",
    "print('No. of. categorical features: ',len(object_cols))"
   ]
  },
  {
   "cell_type": "code",
   "execution_count": 46,
   "id": "ac1ab727",
   "metadata": {},
   "outputs": [],
   "source": [
    "OH_encoder = OneHotEncoder(sparse=False)\n",
    "OH_cols = pd.DataFrame(OH_encoder.fit_transform(df[object_cols]))\n",
    "OH_cols.index = df.index\n",
    "OH_cols.columns = OH_encoder.get_feature_names()\n",
    "df_final = df.drop(object_cols, axis=1)\n",
    "df_final = pd.concat([df_final, OH_cols], axis=1)"
   ]
  },
  {
   "cell_type": "markdown",
   "id": "22387bb6",
   "metadata": {},
   "source": [
    "# Splitting Dataset into Training and Testing"
   ]
  },
  {
   "cell_type": "code",
   "execution_count": 112,
   "id": "08611475",
   "metadata": {},
   "outputs": [],
   "source": [
    "X = df_final.drop(['SalePrice'],axis=1)\n",
    "Y = df_final['SalePrice']"
   ]
  },
  {
   "cell_type": "code",
   "execution_count": 113,
   "id": "30477527",
   "metadata": {},
   "outputs": [],
   "source": [
    "from sklearn.model_selection import train_test_split\n",
    "x_train,x_test,y_train,y_test = train_test_split(X,Y,train_size=0.8,test_size=0.2,random_state=0)"
   ]
  },
  {
   "cell_type": "markdown",
   "id": "7e4148c2",
   "metadata": {},
   "source": [
    "# Model Building with sklearn"
   ]
  },
  {
   "cell_type": "code",
   "execution_count": 114,
   "id": "1e6780e3",
   "metadata": {},
   "outputs": [
    {
     "data": {
      "text/plain": [
       "LinearRegression()"
      ]
     },
     "execution_count": 114,
     "metadata": {},
     "output_type": "execute_result"
    }
   ],
   "source": [
    "from sklearn.linear_model import LinearRegression\n",
    "model_LR = LinearRegression()\n",
    "model_LR.fit(x_train, y_train)"
   ]
  },
  {
   "cell_type": "code",
   "execution_count": 115,
   "id": "436b8b35",
   "metadata": {},
   "outputs": [
    {
     "data": {
      "text/plain": [
       "array([ 4.63938819e+02,  8.02992665e-01,  2.82096858e+03,  3.70353444e+02,\n",
       "        3.44149273e+02, -9.86861567e+00,  4.30405890e+01,  6.15340805e+03,\n",
       "        4.92440794e+02, -1.82811417e+03, -8.83719848e+02, -3.93401483e+03,\n",
       "        1.55301690e+03,  7.38748572e+03, -1.72211190e+03, -8.14674882e+03,\n",
       "        9.28358101e+02,  4.35978251e+04, -3.06683753e+04,  9.14917683e+03,\n",
       "       -1.36111968e+04, -8.46742982e+03,  3.48983670e+02, -2.10530271e+04,\n",
       "       -1.03217194e+04,  9.16283897e+03, -2.91038305e-11,  1.39438322e+03,\n",
       "       -1.26813480e+04,  3.63797881e-12, -7.41253196e+03, -1.19677383e+04,\n",
       "        6.58583191e+04,  8.32900978e+02, -6.49495524e+03, -1.56611353e+03,\n",
       "       -6.09999238e+03])"
      ]
     },
     "execution_count": 115,
     "metadata": {},
     "output_type": "execute_result"
    }
   ],
   "source": [
    "#m(slope)\n",
    "model_LR.coef_"
   ]
  },
  {
   "cell_type": "code",
   "execution_count": 116,
   "id": "f12c449e",
   "metadata": {},
   "outputs": [
    {
     "data": {
      "text/plain": [
       "-1355887.3649254157"
      ]
     },
     "execution_count": 116,
     "metadata": {},
     "output_type": "execute_result"
    }
   ],
   "source": [
    "#c(intercept)\n",
    "model_LR.intercept_"
   ]
  },
  {
   "cell_type": "code",
   "execution_count": 117,
   "id": "b921799e",
   "metadata": {},
   "outputs": [
    {
     "name": "stdout",
     "output_type": "stream",
     "text": [
      "Predicted:  [191650.15923449 256694.21204008 172701.86041707 178271.40635751\n",
      " 206419.73613526 197732.89101835 122841.48375806 157878.58934739\n",
      " 191291.77887932 204804.03308353 150243.64027563 219384.08152954\n",
      " 175255.50575308 146897.11420032 199206.87801954 140385.69033295\n",
      " 168183.44447516 163859.73646193 199489.97467243 197189.64221705\n",
      " 196128.98519652 133933.9044786  213384.66385957 171491.85738481\n",
      " 134813.81633664 155413.33744835 147306.70226194 172544.46498721\n",
      " 162993.16873966 149133.18652125 165985.90539425 190830.5097074\n",
      " 163121.19310168 194180.0272962  173858.91795552 196437.34882538\n",
      " 141050.11569807 164048.62478896 170097.87353521 168791.86980326\n",
      " 213867.76779934 227566.00767484 225968.6660771  141556.62431201\n",
      " 200123.25857304 221255.82922142 219628.05092849 112066.64524961\n",
      " 170881.54038786 195695.22225926 199297.32301991 194250.64094596\n",
      " 125567.52706621 153150.46411961 197129.20194131 152353.39846161\n",
      " 135830.20477894 222158.33887991 182830.5698671  199591.81857295\n",
      " 206995.28102923 167071.6365769  132145.03008325 165280.23809106\n",
      " 191581.54045589 193196.65980594 103591.35181865 152442.19956667\n",
      " 159762.6150873  178125.05210998 161177.87763618 202334.03218544\n",
      " 182622.91838593 210320.34244288 178795.69789939 152790.32828779\n",
      " 196562.57185731 188656.29977069 108861.32389705 205452.4118858\n",
      " 146418.04130528 185508.05878859 200085.66470105 173664.15115612\n",
      " 152563.57845667 167130.72701883 156085.45243031 205144.53831838\n",
      " 156262.27455351 166136.79845492 170341.99178056 202329.07708251\n",
      " 178583.46245341 154552.01748482 182038.45296562 140041.69857018\n",
      " 166159.47680368 159380.2763784  180167.41246586 130669.94938674\n",
      " 158226.58894704 161846.4400881  183023.44636533 197549.80792774\n",
      " 147124.96528779 207299.53229971 200496.89994813 203173.63119264\n",
      " 136094.1807554  189217.84564846 125391.7640702  240341.69712077\n",
      " 189002.73523215 203512.92334777 195101.90539681 182486.30719165\n",
      " 214773.27902033 162974.20081412 223397.43900139 157571.78490549\n",
      " 249563.70910753 236224.16581948 188980.2377198  156848.38730684\n",
      " 164643.13017448 212348.10352044 179568.16162026 183563.71858062\n",
      " 162040.75641552 174208.90619855 138164.41005465 180053.61341677\n",
      " 219327.37215153 183653.16593677 142553.61307009 159921.46618761\n",
      " 216942.14453575 153915.58503432 180529.34303608 224214.08382836\n",
      " 140570.48811538 184988.42070619 189369.51151102 184105.93719487\n",
      " 190463.08648834 186086.66449492 204289.10461769 173081.36360414\n",
      " 122388.91322081 153238.8827715  206588.82104785 193089.81627246\n",
      " 162612.7088665  156210.93746848 134697.88704498 129352.58363822\n",
      " 152894.00465784 134080.1714976  202690.2475415  195507.125394\n",
      " 163581.29424808 143358.34582482 194462.55540589 163917.81143593\n",
      " 166293.10329642 214040.98938066 211574.68273738 191924.47306021\n",
      " 218346.68932357 192370.65283059 191839.44884241 140982.74331061\n",
      " 170986.91658594 228467.4562873  189795.66824961 171380.98149269\n",
      " 167204.51996726 195920.40314583 222685.06032403 211418.99874296\n",
      " 139003.19634301 183425.22379166 198388.68215031 164097.59907819\n",
      " 207873.45493517 212662.26482356 193415.1317507  224259.2669964\n",
      " 124529.11386477 183742.48459046 162835.16412624 150047.84524216\n",
      " 185121.53680951 158437.3000156  165040.56655029 215374.3944688\n",
      " 246793.49156565 183091.87821116 152634.0926372  145412.95138877\n",
      " 206240.84968936 177877.83321642 198176.94681377 178169.1063031\n",
      " 171750.44278289 151088.79987454 186306.32479273 206520.86513188\n",
      " 164877.50812911 127726.22291576 150686.49081359 181695.1190521\n",
      " 212179.86581804 163103.3117167  152990.85121135 180660.39432206\n",
      " 169464.7909285  177441.17468368 191677.84762687 197762.89509114\n",
      " 140196.22437798 165031.30577442 163103.0482237  160217.99067023\n",
      " 161630.69688484 228686.0601795  201734.49295909 156776.61383725\n",
      " 220764.25844639 172657.94975284 157892.28566168 130188.03823272\n",
      " 181890.96638081 162193.22369803 148362.85636308 204032.6986039\n",
      " 140771.32914957 197745.59464927 202216.48472239 154584.86958344\n",
      " 192980.2483389  189433.1411219  163974.09038389 128151.6150645\n",
      " 165471.7852081  154009.44986317 114276.38518658 191467.14998444\n",
      " 201766.35991297 243815.22636917 197201.29612012 167978.07836354\n",
      " 149593.04998125 235215.01178877 209517.57924123 157168.11391902\n",
      " 200963.07577616 224670.00232521 199702.57758213 196093.20891355\n",
      " 184286.00314885 201678.13110549 168866.40455299 192032.40886443\n",
      " 228268.61200492 167734.6271118  137099.84842234 162448.66612708\n",
      " 214718.91834374 125018.18748767 109055.48638792 228389.08792348\n",
      " 202622.64399625 157986.45349265 135999.36969401 245970.18690599\n",
      " 249845.01775737 169861.56360205 187794.0844776  156985.37589436\n",
      " 157691.99793424 189357.63616315 202300.30906458 208686.87567854\n",
      " 161557.81725841 186342.19636852 277953.80056097 179682.44249769\n",
      " 216729.95004894 178528.39054036 141387.32550343 209110.24994302\n",
      " 220006.04936558 170166.16781381 190120.3202604  157011.61608481\n",
      " 210385.07824686 189335.83885029 200391.76883881 213929.83229419\n",
      " 162650.3261084  115283.60135914 211925.01942293 180839.69874967\n",
      " 291856.58431674 184922.71917659 150126.25347981 217765.01443414\n",
      " 152525.73762179 186884.12503031 179577.14414356 192476.57496545\n",
      " 151020.19175113 217736.2017309  165335.87466962 159383.85992064\n",
      " 196827.74066615 164424.92883678 242181.5109977  154617.68708259\n",
      " 194373.53999968 135000.9787347  187072.03734777 107214.63585346\n",
      " 206974.72943921 197350.23444531 208493.9902068  133273.95641864\n",
      " 194771.94291733 164041.51012583 159939.90216636 266639.92753122\n",
      " 152297.95485235 223931.9761604  222080.19837819 168237.58249014\n",
      " 213650.31403729 169815.08598669 201238.18626997 196477.95456759\n",
      " 190584.67394625 125250.7313308  227968.25089577 152567.07340143\n",
      " 160573.22978706 163896.735831   153367.97438253 136918.0768587\n",
      " 209967.01768203 176282.38763741 194370.01118432 187669.6725847\n",
      " 225903.28599189 133781.84545029 200243.70888713 177422.03343017\n",
      " 172989.17397812 150838.46729041 231289.43158382 208124.109234\n",
      " 221275.57230877 199603.37870735 151767.01879376 190894.97635623\n",
      " 143551.53699387 217139.83814417 226955.46289121 203998.00543363\n",
      " 155633.01612874 191633.40436021 204342.64142371 192368.22665126\n",
      " 163754.02503986 174021.77692558 243706.08096336 156725.04372106\n",
      " 167041.89355353 214685.1748546  144895.55674015 209313.62190062\n",
      " 163146.67410133 161771.234087   154664.05356785 171655.10772044\n",
      " 149555.1804394  198174.06070772 200111.90335823 197824.25295636\n",
      " 205973.2032717  179052.87849809 195206.82566327 201548.27628392\n",
      " 214413.91267213 217695.35791504 198118.97722547 145419.62391366\n",
      " 167661.80566762 145150.327857   197843.67050141 232420.83897517\n",
      " 228932.64661106 181626.382932   197042.42000747 214470.37558414\n",
      " 174353.19765831 197535.49354661 178689.43024093 168069.84823825\n",
      " 174460.32028928 161464.40422562 234350.20175697 201280.89094348\n",
      " 187522.91972751 152371.90750043 145640.66049919 120263.66982782\n",
      " 211866.82664087 160761.93890184 163968.84110086 168770.11405902\n",
      " 183747.1486932  176992.63466184 153794.10854779 184052.15279831\n",
      " 191768.51219328 209682.65347589 161125.30944926 210090.50526249\n",
      " 215470.07799218 153495.13973921 165551.74492479 202057.10277663\n",
      " 172184.48145825 149617.58767225 139929.10088473 179284.78777547\n",
      " 198407.40550871 165425.35995843 128209.16659527 135701.62307083\n",
      " 183420.46855714 187025.80284937 167474.70625204 179196.37272046\n",
      " 139251.60413747 227418.60176899 171627.9853591  166289.5266619\n",
      " 186638.1712703  142600.94776957 201580.93561705 200192.44573651\n",
      " 170082.25003434 194505.01077074 145595.40180285 195878.91633477\n",
      " 147861.29174847 147329.06016296 153318.39868591 174818.05996929\n",
      " 183377.258809   199042.74360384 219593.47355584 206456.60283519\n",
      " 175016.14153767 158821.3300455  219803.60803862 269553.83208139\n",
      " 150766.9001694  153125.92510773 185376.42081139 226013.02441779\n",
      " 115570.66258354 183639.92184372 196954.95505776 193627.39231336\n",
      " 259957.70057708 149594.52708001 189973.96724419 183113.36610217\n",
      " 212063.08764871 221204.93939473 167845.22973508 200958.19846304\n",
      " 246893.40917657 231133.50981015 171498.56904499 153512.11119462\n",
      " 213751.01251444 198547.49663447 167935.69047257 193154.04942848\n",
      " 134654.55719416 196741.484049   185922.03902849 227195.52318948\n",
      " 184001.77126074 147933.82642163 156857.28218923 160645.84320327\n",
      " 158138.57932742 187173.20783565  97671.42341416 218282.58035155\n",
      " 193387.77206031 206188.30332298 200846.96849104 227789.25563364\n",
      " 123621.76197759 197691.88284033 209941.21451113 200608.56266016\n",
      " 208310.58821439 201973.02781632 204370.92669917 211452.39083897\n",
      " 178697.51245787 129454.13330637 199534.91725978 174038.35075142\n",
      " 203429.3475993  214759.28854557 201334.97059272 150222.81481052\n",
      " 234092.68252893 165717.80739965 161344.52237291 192013.87587522\n",
      " 213751.70058395 175590.51698924 146271.83378554 124017.0204682\n",
      " 205483.06711297 175728.28244498 182824.49818821 216873.64501293\n",
      " 158830.29175726 166528.17251335 161526.26797488 193569.76107649\n",
      " 152435.51796907 191824.98161746 203366.63090272 178666.12586971\n",
      " 152510.99784763 207219.01682496 187658.02790858 140361.7074512\n",
      " 189903.38566049 194251.08026035 146480.40764896 175955.19708697\n",
      " 158995.89513212 140331.28428197 213327.09841872 158318.58409243\n",
      " 176701.49361092 191927.12971954 169858.19288017 224079.90237519\n",
      " 167074.16533938 170130.51855398 115775.0998438  221552.77665546\n",
      " 194319.56180773 171600.61447218 220920.5004128  204553.03927472\n",
      " 134709.72894319 125301.90266127 212075.44364219 203524.73530383\n",
      " 173415.20564912 213076.8092943  180816.47116083 202257.67850051\n",
      " 189445.30482475 126858.84831435 168536.34337095 216034.91618086\n",
      " 157497.77526479 226436.30256943 178107.07759147]\n"
     ]
    }
   ],
   "source": [
    "y_pred = model_LR.predict(x_test)\n",
    "print(\"Predicted: \",y_pred)"
   ]
  },
  {
   "cell_type": "code",
   "execution_count": 118,
   "id": "907a9580",
   "metadata": {},
   "outputs": [
    {
     "name": "stdout",
     "output_type": "stream",
     "text": [
      "Mean Absolute Error(MAE):  0.18741683841600162\n",
      "Mean Square Error(MSE):  1692380766.4526932\n",
      "Root Mean Square Error(RMSE): 41138.555716659444\n",
      "R2 Score:  0.37414227045743853\n"
     ]
    }
   ],
   "source": [
    "from sklearn.metrics import mean_absolute_percentage_error,mean_squared_error,r2_score\n",
    "print(\"Mean Absolute Error(MAE): \",mean_absolute_percentage_error(y_test, y_pred))\n",
    "print(\"Mean Square Error(MSE): \",mean_squared_error(y_test,y_pred))\n",
    "print(\"Root Mean Square Error(RMSE):\",np.sqrt(mean_squared_error(y_test,y_pred)))\n",
    "print(\"R2 Score: \",r2_score(y_test,y_pred))"
   ]
  },
  {
   "cell_type": "code",
   "execution_count": null,
   "id": "6ef2949e",
   "metadata": {},
   "outputs": [],
   "source": []
  },
  {
   "cell_type": "code",
   "execution_count": null,
   "id": "b1f36dd5",
   "metadata": {},
   "outputs": [],
   "source": []
  }
 ],
 "metadata": {
  "kernelspec": {
   "display_name": "Python 3",
   "language": "python",
   "name": "python3"
  },
  "language_info": {
   "codemirror_mode": {
    "name": "ipython",
    "version": 3
   },
   "file_extension": ".py",
   "mimetype": "text/x-python",
   "name": "python",
   "nbconvert_exporter": "python",
   "pygments_lexer": "ipython3",
   "version": "3.8.8"
  }
 },
 "nbformat": 4,
 "nbformat_minor": 5
}
